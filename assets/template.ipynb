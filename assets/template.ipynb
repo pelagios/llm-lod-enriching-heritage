{
  "cells": [
    {
      "cell_type": "markdown",
      "metadata": {
        "id": "uivBNDE4-KUI"
      },
      "source": [
        "THIS IS A **TEMPLATE**. PLEASE MAKE A  COPY OF IT FOR EACH NEW RECIPE"
      ]
    },
    {
      "cell_type": "markdown",
      "metadata": {
        "id": "5BozTO4J6YDV"
      },
      "source": [
        "# This is an example Recipe title"
      ]
    },
    {
      "cell_type": "markdown",
      "metadata": {
        "id": "Bry5fLY56t2y"
      },
      "source": [
        "##Summary\n",
        " A brief description of what it does (2-3 line para)"
      ]
    },
    {
      "cell_type": "markdown",
      "metadata": {
        "id": "n5lOGUoI62D6"
      },
      "source": [
        "##Rationale\n",
        "\n",
        "Why is this recipe useful? What other recipes does it relate to?"
      ]
    },
    {
      "cell_type": "markdown",
      "metadata": {
        "id": "yu11_x1n656e"
      },
      "source": [
        "## Process overview\n",
        "\n",
        "Describe in natural language the key steps of the process"
      ]
    },
    {
      "cell_type": "markdown",
      "metadata": {
        "id": "N2v8mz118JgN"
      },
      "source": [
        "## Recipe"
      ]
    },
    {
      "cell_type": "code",
      "execution_count": null,
      "metadata": {
        "id": "ftQmjoC26hiJ"
      },
      "outputs": [],
      "source": [
        "# Code Step 1"
      ]
    },
    {
      "cell_type": "code",
      "execution_count": null,
      "metadata": {
        "id": "tcu63lfp7mjc"
      },
      "outputs": [],
      "source": [
        "#Code step 2"
      ]
    },
    {
      "cell_type": "code",
      "execution_count": null,
      "metadata": {
        "id": "RFV38hP67qFM"
      },
      "outputs": [],
      "source": [
        "#etc."
      ]
    },
    {
      "cell_type": "markdown",
      "metadata": {
        "id": "-riY-m5r7xv_"
      },
      "source": [
        "## Variations and alternatives\n",
        "\n",
        "notes on ways in which this recipe be could be adapted or where and when alternative approaches should/could be used."
      ]
    }
  ],
  "metadata": {
    "colab": {
      "provenance": []
    },
    "kernelspec": {
      "display_name": "Python 3",
      "name": "python3"
    },
    "language_info": {
      "name": "python"
    }
  },
  "nbformat": 4,
  "nbformat_minor": 0
}
