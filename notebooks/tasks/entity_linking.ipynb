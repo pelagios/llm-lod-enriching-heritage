{
 "cells": [
  {
   "cell_type": "markdown",
   "id": "0dbc201a-4ecd-4714-be9e-2b35a1f6922d",
   "metadata": {},
   "source": [
    "# Entity linking\n",
    "\n",
    "First draft, code copied from disambiguation_candidates.ipynb notebook"
   ]
  },
  {
   "cell_type": "markdown",
   "id": "85ec9644-9cea-4ea5-9396-a9c039c5f538",
   "metadata": {},
   "source": [
    "## 1. Import required software libraries\n",
    "\n",
    "Entity linking requires importing some standard software libraries. This step may take some time when run for the first time but in successive runs it will be a lot faster."
   ]
  },
  {
   "cell_type": "code",
   "execution_count": 1,
   "id": "a4f7d889-d4ca-4a02-86ac-97796708e7a4",
   "metadata": {},
   "outputs": [],
   "source": [
    "%load_ext autoreload\n",
    "%autoreload 2"
   ]
  },
  {
   "cell_type": "markdown",
   "id": "9f735231-ad73-4158-aefe-4935532f3a90",
   "metadata": {},
   "source": [
    "First we import standard libraries which should always be available"
   ]
  },
  {
   "cell_type": "code",
   "execution_count": 2,
   "id": "4fd95fe3-bc47-413d-9e37-274820524903",
   "metadata": {},
   "outputs": [],
   "source": [
    "from dotenv import load_dotenv\n",
    "import json\n",
    "from IPython.display import HTML\n",
    "import os\n",
    "import requests\n",
    "import time\n",
    "import utils"
   ]
  },
  {
   "cell_type": "markdown",
   "id": "104e1d2b-44dd-4931-a9b3-69f047c04414",
   "metadata": {},
   "source": [
    "Next we import packages which may require installation on this device"
   ]
  },
  {
   "cell_type": "code",
   "execution_count": 3,
   "id": "78ef6754-ccb7-40dc-ad6f-4064b93b1f0e",
   "metadata": {},
   "outputs": [],
   "source": [
    "openai = utils.safe_import(\"openai\")\n",
    "pd = utils.safe_import(\"pandas\")\n",
    "pydantic = utils.safe_import(\"pydantic\")\n",
    "spacy = utils.safe_import(\"spacy\")"
   ]
  },
  {
   "cell_type": "markdown",
   "id": "416b231a-cfa4-4219-a3e1-424b4d6bafd9",
   "metadata": {},
   "source": [
    "Finally we set settings required for Google Colab"
   ]
  },
  {
   "cell_type": "code",
   "execution_count": 4,
   "id": "1471a3c9-2f1c-45ca-aa3c-7c47cbb12f29",
   "metadata": {},
   "outputs": [],
   "source": [
    "in_colab = utils.check_google_colab()"
   ]
  },
  {
   "cell_type": "markdown",
   "id": "35f98f99-340f-4e2d-8587-796e9fc5172a",
   "metadata": {},
   "source": [
    "## 2. Read the texts that require processing\n",
    "\n",
    "The texts should have been processed by the disambiguation_candidates.ipynb notebook. The file read here is an output file of that notebook. We read the texts and the associated metadata and show the first text with its entities."
   ]
  },
  {
   "cell_type": "code",
   "execution_count": 6,
   "id": "89a5f46e-2cd4-4761-9ab9-4e64259dc259",
   "metadata": {},
   "outputs": [
    {
     "name": "stdout",
     "output_type": "stream",
     "text": [
      "{'text_cleaned': 'Statuette of the god Anubis. Bronze. Late Period (722-332 BC).. Acquired before 1882. C. 115', 'entities': [{'text': 'Anubis', 'label': 'PERSON', 'start_char': 21, 'end_char': 27, 'wikidata_id': {'id': 'Q47534', 'description': 'Egyptian deity of mummification and the afterlife, usually depicted as a man with a canine head', 'model': 'gpt-4o-mini'}}]}\n"
     ]
    }
   ],
   "source": [
    "infile_name = \"output_disambiguation_ba25101ddbe8830789bfdfdb3a5ba6312d6853e6.json\"\n",
    "\n",
    "with open(infile_name, \"r\") as infile:\n",
    "    texts_input = json.load(infile)\n",
    "    infile.close()\n",
    "print({\"text_cleaned\": texts_input[0][\"text_cleaned\"], \n",
    "       \"entities\": texts_input[0][\"entities\"]})\n"
   ]
  },
  {
   "cell_type": "markdown",
   "id": "3e2c9ca7-bb1c-4c94-afa0-1a0016def39d",
   "metadata": {},
   "source": [
    "## 3. Disambiguate entities with GPT\n",
    "\n",
    "We disambiguate entities by sending a prompt with each entity text, the context text and the WikiData candidates ids and their descriptions to an LLM. We ask the LLM to return the id associated with the description that best matches the entity in the given context."
   ]
  },
  {
   "cell_type": "markdown",
   "id": "cdc12725-3003-4c45-a6da-55dd3139f281",
   "metadata": {},
   "source": [
    "First we define a helper function for creating the LLM prompt"
   ]
  },
  {
   "cell_type": "code",
   "execution_count": 56,
   "id": "5504175d-8caf-4917-b181-5f449cc7f4e6",
   "metadata": {},
   "outputs": [],
   "source": [
    "def make_linking_prompt(entity, text):\n",
    "    \"\"\"Create an LLM prompt, given a text and target labels and return it\"\"\"\n",
    "    return f\"\"\"\n",
    "Considering the following description of a museum artefact:\n",
    "\n",
    "{text}\n",
    "\n",
    "retrieve the relationship between this artefact and the following named entity, mentioned in the description:\n",
    "\n",
    "{entity}\n",
    "\n",
    "Please answer the following question: Why is this entity mentioned in the description? Please select your answer from the following options:\n",
    "\n",
    "1. the artefact represents the entity\n",
    "2. the entity represents the geographical context of the artefact\n",
    "3. the entity represents the historical context of the artefact\n",
    "4. the entity is related to an object or person represented in the artefact\n",
    "5. the entity is a previous owner of the artefact\n",
    "6. the entity is mentioned for another reason\n",
    "\n",
    "Answer only with a number. If you choose for option 6, you  may add a clarification text\n",
    "\"\"\""
   ]
  },
  {
   "cell_type": "code",
   "execution_count": 67,
   "id": "2e34a6d1-e14f-4230-8a1e-55a068c0c2aa",
   "metadata": {},
   "outputs": [
    {
     "name": "stdout",
     "output_type": "stream",
     "text": [
      "Sending entity \"Bagnani\" of text 100 to GPT\n"
     ]
    }
   ],
   "source": [
    "LINKING_CACHE_FILE = \"linking_cache.json\"\n",
    "model = \"gpt-4o-mini\"\n",
    "\n",
    "\n",
    "openai_api_key = utils.get_openai_api_key()\n",
    "openai_client = utils.connect_to_openai(openai_api_key)\n",
    "entities = utils.extract_entities_from_ner_input(texts_input)\n",
    "linking_cache = utils.read_json_file(LINKING_CACHE_FILE)\n",
    "for entity in entities:\n",
    "    if (entity[\"entity_text\"] in linking_cache and \n",
    "        entity[\"text\"] in linking_cache[entity[\"entity_text\"]] and\n",
    "        model in linking_cache[entity[\"entity_text\"]][entity[\"text\"]]):\n",
    "        utils.squeal(f\"Retrieving entity \\\"{entity['entity_text']}\\\" of text {entity['text_id'] + 1} from cache\")\n",
    "        entity[\"link\"] = linking_cache[entity[\"entity_text\"]][entity[\"text\"]][model] | {\"model\": model}\n",
    "    else:\n",
    "        utils.squeal(f\"Sending entity \\\"{entity['entity_text']}\\\" of text {entity['text_id'] + 1} to GPT\")\n",
    "        time.sleep(1)\n",
    "        prompt = make_linking_prompt(entity[\"entity_text\"], entity[\"text\"])\n",
    "        entity[\"link\"] = {model: utils.process_text_with_gpt(openai_client, model, prompt)}\n",
    "        if entity[\"entity_text\"] not in linking_cache:\n",
    "            linking_cache[entity[\"entity_text\"]] = {}\n",
    "        if entity[\"text\"] not in linking_cache[entity[\"entity_text\"]]:\n",
    "            linking_cache[entity[\"entity_text\"]][entity[\"text\"]] = {}\n",
    "        linking_cache[entity[\"entity_text\"]][entity[\"text\"]][model] = {key: value \n",
    "                                                                       for key, value in entity[\"link\"].items()}\n",
    "utils.write_json_file(LINKING_CACHE_FILE, linking_cache)\n",
    "print(\"Finished processing\")"
   ]
  },
  {
   "cell_type": "code",
   "execution_count": 68,
   "id": "c4a8a46e-9ef5-4c7e-9901-e8bcbc175c24",
   "metadata": {},
   "outputs": [
    {
     "data": {
      "text/plain": [
       "126"
      ]
     },
     "execution_count": 68,
     "metadata": {},
     "output_type": "execute_result"
    }
   ],
   "source": [
    "len(linking_cache)"
   ]
  },
  {
   "cell_type": "code",
   "execution_count": null,
   "id": "80430b4e-ea0f-46e8-8e58-0bdacde83d77",
   "metadata": {},
   "outputs": [],
   "source": []
  }
 ],
 "metadata": {
  "kernelspec": {
   "display_name": "Python 3 (ipykernel)",
   "language": "python",
   "name": "python3"
  },
  "language_info": {
   "codemirror_mode": {
    "name": "ipython",
    "version": 3
   },
   "file_extension": ".py",
   "mimetype": "text/x-python",
   "name": "python",
   "nbconvert_exporter": "python",
   "pygments_lexer": "ipython3",
   "version": "3.10.12"
  }
 },
 "nbformat": 4,
 "nbformat_minor": 5
}
