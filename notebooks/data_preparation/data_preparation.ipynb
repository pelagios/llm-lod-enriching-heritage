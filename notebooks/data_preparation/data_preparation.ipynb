{
 "cells": [
  {
   "cell_type": "markdown",
   "metadata": {
    "colab_type": "text",
    "id": "view-in-github"
   },
   "source": [
    "<a href=\"https://colab.research.google.com/github/pelagios/llm-lod-enriching-heritage/blob/main/notebooks/data_preparation/data_preparation.ipynb\" target=\"_parent\"><img src=\"https://colab.research.google.com/assets/colab-badge.svg\" alt=\"Open In Colab\"/></a>"
   ]
  },
  {
   "cell_type": "markdown",
   "metadata": {
    "id": "1hLkfqo0gRKP"
   },
   "source": [
    "# Prepare Cultural Heritage Data for Named Entity Analysis\n",
    "\n",
    "This notebook prepares data for named enity analysis. It performs four tasks which are represented by the next four chapters:\n",
    "\n",
    "1. Install required software libraries\n",
    "2. Download text from museum website\n",
    "3. Preprocess text for named entity analysis\n",
    "4. Save results\n",
    "\n",
    "The fifth chapter provides alternatives for handling texts from other sources than websites:\n",
    "\n",
    "5. Alternatives for reading text data"
   ]
  },
  {
   "cell_type": "markdown",
   "metadata": {
    "id": "_g_sWNZ7HLN2"
   },
   "source": [
    "## 1. Install required software libraries\n",
    "\n",
    "Preprocessing data requires importing some standard software libraries. This step may take some time when run for the first time but in successive runs it will be a lot faster."
   ]
  },
  {
   "cell_type": "code",
   "execution_count": 22,
   "metadata": {},
   "outputs": [],
   "source": [
    "import importlib\n",
    "import subprocess\n",
    "\n",
    "def safe_import(package_name):\n",
    "    \"\"\"Import a package;. If it missing, download it first\"\"\"\n",
    "    try:\n",
    "        return importlib.import_module(package_name)\n",
    "    except ImportError:\n",
    "        print(f\"📦 {package_name} not found. Installing...\")\n",
    "        subprocess.check_call([sys.executable, \"-m\", \"pip\", \"install\", package_name])\n",
    "        return importlib.import_module(package_name)\n",
    "\n",
    "spacy = safe_import(\"spacy\")\n",
    "langid = safe_import(\"langid\")"
   ]
  },
  {
   "cell_type": "code",
   "execution_count": 39,
   "metadata": {
    "id": "_4ibh6-tsb-n"
   },
   "outputs": [],
   "source": [
    "import regex, unicodedata, json\n",
    "from typing import List, Dict, Any, Tuple, Optional\n",
    "import hashlib\n",
    "import polars as pl\n",
    "\n",
    "import requests\n",
    "\n",
    "try:\n",
    "    from google.colab import files\n",
    "    IN_COLAB = True\n",
    "except:\n",
    "    IN_COLAB = False"
   ]
  },
  {
   "cell_type": "markdown",
   "metadata": {
    "id": "yKvJmCRQHQUN"
   },
   "source": [
    "## 2. Download text from museum website\n",
    "\n",
    "We use the description of a painting by Claude Monet from the artwork Cleveland Museum website as example text"
   ]
  },
  {
   "cell_type": "code",
   "execution_count": 21,
   "metadata": {
    "id": "bOSpuE_xsvgX"
   },
   "outputs": [],
   "source": [
    "base_url = \"https://openaccess-api.clevelandart.org/api/artworks\"\n",
    "data_source = \"CMA\"\n",
    "\n",
    "def fetch_cma(query_string: str) -> List[Dict[str, Any]]:\n",
    "    \"\"\"Fetch metadata from Cleveland Museum of Art website\"\"\"\n",
    "    try:\n",
    "        response = requests.get(base_url, params={\"q\": query_string, \"skip\": 0, \"limit\": 100}, timeout=10)\n",
    "    except:\n",
    "        return []\n",
    "    response.raise_for_status()\n",
    "    artworks = response.json().get(\"data\", [])\n",
    "    if artworks == []:\n",
    "        return []\n",
    "    else:\n",
    "        return [{\"id\": artworks[0].get(\"id\"), \n",
    "                 \"data_source\": data_source,\n",
    "                 \"text_original\": (artworks[0].get(\"description\") or \"\").strip()}]"
   ]
  },
  {
   "cell_type": "code",
   "execution_count": 4,
   "metadata": {
    "colab": {
     "base_uri": "https://localhost:8080/"
    },
    "id": "B1rjBgsgwkM4",
    "outputId": "a139382e-f994-4ce0-9fc4-627bd1f27bec"
   },
   "outputs": [
    {
     "name": "stdout",
     "output_type": "stream",
     "text": [
      "Text found: {'id': 135382, 'data_source': 'CMA', 'text_original': \"This painting depicts Monet's first wife, Camille, outside on a snowy day passing by the French doors of their home at Argenteuil. Her face is rendered in a radically bold Impressionist technique of mere daubs of paint quickly applied, just as the snow and trees are defined by broad, broken strokes of pure white and green.\"}\n"
     ]
    }
   ],
   "source": [
    "texts = fetch_cma(\"monet\")\n",
    "if not texts:\n",
    "    print(\"No texts were found. Are you connected to the internet?\")\n",
    "else:\n",
    "    print(\"Text found:\", texts[0])"
   ]
  },
  {
   "cell_type": "markdown",
   "metadata": {
    "id": "hkcitK7zHcuK"
   },
   "source": [
    "## 3. Preprocess text for named entity analysis\n",
    "\n",
    "Three steps are performed while preprocessing the texts:\n",
    "\n",
    "1. Text cleanup: remove non-text characters, urls and email addresses\n",
    "2. Detect the language of the text\n",
    "3. Split the text in sentences and tokens"
   ]
  },
  {
   "cell_type": "code",
   "execution_count": 68,
   "metadata": {
    "id": "_Yzx1zaEv9Dp"
   },
   "outputs": [],
   "source": [
    "def cleanup_text(text: str) -> str:\n",
    "    \"\"\"Cleanup text: remove non-text characters, urls and email addresses\"\"\"\n",
    "    text = unicodedata.normalize(\"NFC\", text)\n",
    "    text = regex.sub(r\"[\\u0000-\\u0008\\u000B\\u000C\\u000E-\\u001F\\u007F]\", \"\", text)\n",
    "    text = regex.sub(r\"[ \\t\\u00A0]+\", \" \", text)\n",
    "    text = regex.sub(\"\\s+\", \" \", text)\n",
    "    text = regex.sub(r\"https?://\\S+\", \"<URL>\", text)\n",
    "    text = regex.sub(r\"\\b[\\w\\.-]+@[\\w\\.-]+\\.\\w+\\b\", \"<EMAIL>\", text)\n",
    "    return text"
   ]
  },
  {
   "cell_type": "code",
   "execution_count": 23,
   "metadata": {
    "id": "CU7wQCewxyWc"
   },
   "outputs": [],
   "source": [
    "def detect_text_language(text: str) -> Dict[str, Any]:\n",
    "    \"\"\"Detect language text is written in and return id of the language\"\"\"\n",
    "    return langid.classify(text)[0]"
   ]
  },
  {
   "cell_type": "code",
   "execution_count": 24,
   "metadata": {},
   "outputs": [],
   "source": [
    "def preprocess_text(text, language_id):\n",
    "    \"\"\"Preprocess a single text: divide it in sentences and tokens\"\"\"\n",
    "    try:\n",
    "        spacy_model = spacy.blank(language_id)\n",
    "    except:\n",
    "        print(f\"Cannot load model for language {language_id}\")\n",
    "        spacy_model = spacy.blank(\"xx\")\n",
    "    spacy_model.add_pipe(\"sentencizer\")\n",
    "    preprocessed_text = spacy_model(text)\n",
    "    sentences = [{\"id\": sentence_id, \n",
    "                  \"start\": sentence.start_char, \n",
    "                  \"end\": sentence.end_char, \n",
    "                  \"text\": sentence.text} for sentence_id, sentence in enumerate(preprocessed_text.sents)]\n",
    "    tok2sent = {token.i: sentence_id for sentence_id, sentence in enumerate(preprocessed_text.sents) \n",
    "                                     for token in sentence}\n",
    "    tokens = [{\"id\": token.i,\n",
    "               \"text\": token.text,\n",
    "               \"start\": token.idx,\n",
    "               \"end\": token.idx + len(token.text),\n",
    "               \"ws\": token.whitespace_ != \"\",\n",
    "               \"is_punct\": token.is_punct,\n",
    "               \"sent_id\": tok2sent.get(token.i)} for token in preprocessed_text]\n",
    "    return sentences, tokens"
   ]
  },
  {
   "cell_type": "code",
   "execution_count": 25,
   "metadata": {
    "id": "e6xknyGKwQJz"
   },
   "outputs": [],
   "source": [
    "def preprocess_texts(texts) -> List[Dict[str, Any]]:\n",
    "    \"\"\"Preprocess a list of texts and return the results as a list of dictionaries\"\"\"\n",
    "    results: List[Dict[str, Any]] = []\n",
    "    for text in texts:\n",
    "        sentences, tokens = preprocess_text(text[\"text_cleaned\"], text[\"language_id\"])\n",
    "        results.append({\"meta\": {**{key: text[key] for key in text if not regex.search(\"text\", key)},\n",
    "                                 \"char_count\": len(text),\n",
    "                                 \"token_count\": len(tokens),\n",
    "                                 \"sentence_count\": len(sentences)},\n",
    "                        \"text_original\": text[\"text_original\"],\n",
    "                        \"text_cleaned\": text[\"text_cleaned\"],\n",
    "                        \"sentences\": sentences,\n",
    "                        \"tokens\": tokens})\n",
    "    return results"
   ]
  },
  {
   "cell_type": "code",
   "execution_count": 87,
   "metadata": {
    "colab": {
     "base_uri": "https://localhost:8080/"
    },
    "id": "sw9jFDPTxflU",
    "outputId": "68fd96cd-31e4-4e76-ce96-075cf1646a58"
   },
   "outputs": [
    {
     "name": "stdout",
     "output_type": "stream",
     "text": [
      "{'id': 1, 'data_source': 'wikipedia', 'text_cleaned': 'Der Kölner Dom (offiziell Hohe Domkirche zu Köln) ist eine römisch-katholische Kirche in Köln unter dem Patrozinium des Apostels Petrus. Er ist die Kathedrale des Erzbistums Köln sowie Metropolitan\\xadkirche der Kirchenprovinz Köln. Hausherr ist der Dompropst. Der Kölner Dom ist eine der größten Kathedralen im gotischen Baustil. Sein Bau wurde 1248 im Auftrag von Konrad I. nach Entwurf von Meister Gerhard begonnen und 1880 im Auftrag von Friedrich Wilhelm IV. nach Entwurf von Ernst Friedrich Zwirner vollendet. Einige Kunsthistoriker haben den Dom wegen seiner einheitlichen und ausgewogenen Bauform als „vollkommene Kathedrale“ bezeichnet. Mit 157,22 Metern ist er nach dem Ulmer Münster der zweithöchste Sakralbau Deutschlands und hinter der Basilika Notre-Dame-de-la-Paix de Yamoussoukro die dritthöchste Kirche der Welt.'}\n"
     ]
    }
   ],
   "source": [
    "texts_cleaned = [text | {\"text_cleaned\": cleanup_text(text[\"text_original\"])} for text in texts]\n",
    "print({key: texts_cleaned[0][key] \n",
    "       for key in texts_cleaned[0]\n",
    "       if key not in [\"text_original\"]})"
   ]
  },
  {
   "cell_type": "code",
   "execution_count": 88,
   "metadata": {
    "colab": {
     "base_uri": "https://localhost:8080/"
    },
    "id": "3U0q26bQxzKQ",
    "outputId": "f378c7d6-b146-49f2-9015-d31bc5c52d24"
   },
   "outputs": [
    {
     "name": "stdout",
     "output_type": "stream",
     "text": [
      "{'language_id': 'de', 'id': 1, 'data_source': 'wikipedia', 'text_cleaned': 'Der Kölner Dom (offiziell Hohe Domkirche zu Köln) ist eine römisch-katholische Kirche in Köln unter dem Patrozinium des Apostels Petrus. Er ist die Kathedrale des Erzbistums Köln sowie Metropolitan\\xadkirche der Kirchenprovinz Köln. Hausherr ist der Dompropst. Der Kölner Dom ist eine der größten Kathedralen im gotischen Baustil. Sein Bau wurde 1248 im Auftrag von Konrad I. nach Entwurf von Meister Gerhard begonnen und 1880 im Auftrag von Friedrich Wilhelm IV. nach Entwurf von Ernst Friedrich Zwirner vollendet. Einige Kunsthistoriker haben den Dom wegen seiner einheitlichen und ausgewogenen Bauform als „vollkommene Kathedrale“ bezeichnet. Mit 157,22 Metern ist er nach dem Ulmer Münster der zweithöchste Sakralbau Deutschlands und hinter der Basilika Notre-Dame-de-la-Paix de Yamoussoukro die dritthöchste Kirche der Welt.'}\n"
     ]
    }
   ],
   "source": [
    "texts_with_language_ids = [{\"language_id\": detect_text_language(text[\"text_cleaned\"])} | text\n",
    "                            for text in texts_cleaned]\n",
    "print({key: texts_with_language_ids[0][key] \n",
    "       for key in texts_with_language_ids[0]\n",
    "       if key not in [\"text_original\"]})"
   ]
  },
  {
   "cell_type": "code",
   "execution_count": 89,
   "metadata": {
    "colab": {
     "base_uri": "https://localhost:8080/"
    },
    "id": "sklE05mCyemA",
    "outputId": "28d1072c-23b8-408c-9fd0-aa5aaa3846e6"
   },
   "outputs": [
    {
     "name": "stdout",
     "output_type": "stream",
     "text": [
      "{'meta': {'language_id': 'de', 'id': 1, 'data_source': 'wikipedia', 'char_count': 5, 'token_count': 128, 'sentence_count': 7}, 'sentences': [{'id': 0, 'start': 0, 'end': 136, 'text': 'Der Kölner Dom (offiziell Hohe Domkirche zu Köln) ist eine römisch-katholische Kirche in Köln unter dem Patrozinium des Apostels Petrus.'}, {'id': 1, 'start': 137, 'end': 229, 'text': 'Er ist die Kathedrale des Erzbistums Köln sowie Metropolitan\\xadkirche der Kirchenprovinz Köln.'}, {'id': 2, 'start': 230, 'end': 257, 'text': 'Hausherr ist der Dompropst.'}, {'id': 3, 'start': 258, 'end': 327, 'text': 'Der Kölner Dom ist eine der größten Kathedralen im gotischen Baustil.'}, {'id': 4, 'start': 328, 'end': 512, 'text': 'Sein Bau wurde 1248 im Auftrag von Konrad I. nach Entwurf von Meister Gerhard begonnen und 1880 im Auftrag von Friedrich Wilhelm IV. nach Entwurf von Ernst Friedrich Zwirner vollendet.'}, {'id': 5, 'start': 513, 'end': 642, 'text': 'Einige Kunsthistoriker haben den Dom wegen seiner einheitlichen und ausgewogenen Bauform als „vollkommene Kathedrale“ bezeichnet.'}, {'id': 6, 'start': 643, 'end': 826, 'text': 'Mit 157,22 Metern ist er nach dem Ulmer Münster der zweithöchste Sakralbau Deutschlands und hinter der Basilika Notre-Dame-de-la-Paix de Yamoussoukro die dritthöchste Kirche der Welt.'}], 'tokens': [{'id': 0, 'text': 'Der', 'start': 0, 'end': 3, 'ws': True, 'is_punct': False, 'sent_id': 0}, {'id': 1, 'text': 'Kölner', 'start': 4, 'end': 10, 'ws': True, 'is_punct': False, 'sent_id': 0}, {'id': 2, 'text': 'Dom', 'start': 11, 'end': 14, 'ws': True, 'is_punct': False, 'sent_id': 0}, '...']}\n"
     ]
    }
   ],
   "source": [
    "preprocessed_texts = preprocess_texts(texts_with_language_ids)\n",
    "print({key: preprocessed_texts[0][key] \n",
    "       for key in preprocessed_texts[0] \n",
    "       if key not in [\"text_original\", \"text_cleaned\", \"tokens\"]} | \n",
    "      {\"tokens\": preprocessed_texts[0][\"tokens\"][:3] + [\"...\"]})"
   ]
  },
  {
   "cell_type": "markdown",
   "metadata": {},
   "source": [
    "## 4. Save results"
   ]
  },
  {
   "cell_type": "code",
   "execution_count": 72,
   "metadata": {},
   "outputs": [],
   "source": [
    "def save_results(texts):\n",
    "    \"\"\"Save preprocessed texts in a json file\"\"\"\n",
    "    json_string = json.dumps(texts, ensure_ascii=False, indent=2)\n",
    "    hash = hashlib.sha1(json_string.encode(\"utf-8\")).hexdigest()\n",
    "    output_file_name = f\"output_{hash}.json\"\n",
    "    with open(output_file_name, \"w\", encoding=\"utf-8\") as output_file:\n",
    "        print(json_string, end=\"\", file=output_file)\n",
    "        output_file.close()\n",
    "        print(f\"Saved preprocessed texts to {output_file_name}\")"
   ]
  },
  {
   "cell_type": "code",
   "execution_count": 90,
   "metadata": {},
   "outputs": [
    {
     "name": "stdout",
     "output_type": "stream",
     "text": [
      "Saved preprocessed texts to output_38ecb18ac5f2e220a8400132dfc59b8a20b34ef6.json\n"
     ]
    }
   ],
   "source": [
    "save_results(preprocessed_texts)"
   ]
  },
  {
   "cell_type": "markdown",
   "metadata": {},
   "source": [
    "## 5. Alternatives for reading text data\n",
    "\n",
    "Here are some methods for reading texts as alternatives for reading them from a museum website as presented in chapter 2 of this notebook. Run these code blocks instead of the code blocks of chapter 2 and then proceed with chapter 3."
   ]
  },
  {
   "cell_type": "markdown",
   "metadata": {},
   "source": [
    "### 5.1. Small text examples defined in the code\n",
    "\n",
    "We use descriptions from three famous artworks from Wikipedia, written in other languages than English."
   ]
  },
  {
   "cell_type": "code",
   "execution_count": 62,
   "metadata": {},
   "outputs": [],
   "source": [
    "texts = [{\"id\": 1, \"data_source\": \"wikipedia\", \"text_original\": \"\"\"De Nachtwacht is een schuttersstuk van de \n",
    "           Hollandse schilder Rembrandt van Rijn (1606-1669) dat in 1642 gereed kwam. De huidige officiële titel \n",
    "           luidt: Officieren en andere schutters van wijk II in Amsterdam, onder leiding van kapitein Frans \n",
    "           Banninck Cocq en luitenant Willem van Ruytenburch, bekend als ‘De Nachtwacht’.\"\"\"},\n",
    "         {\"id\": 2, \"data_source\": \"wikipedia\", \"text_original\": \"\"\"La Gioconda, nota anche come Monna Lisa, è un \n",
    "           dipinto a olio su tavola di pioppo realizzato da Leonardo da Vinci (77 × 53 cm e 13 mm di spessore), \n",
    "           databile al 1503-1506 circa e conservato nel Museo del Louvre di Parigi col numero 779 di catalogo.\"\"\"},\n",
    "         {\"id\": 3, \"data_source\": \"wikipedia\", \"text_original\": \"\"\"Le Penseur (initialement intitulé Le Poète) est \n",
    "           un des chefs-d'œuvre emblématiques d'Auguste Rodin.\"\"\"}]"
   ]
  },
  {
   "cell_type": "markdown",
   "metadata": {},
   "source": [
    "### 5.2. Reading texts from a csv file\n",
    "\n",
    "We use the artefact descriptions from the Egyptian Museum in Turin as example texts. We use two columns of the file, one with the identifier of the artefact and one with the description text\n",
    "\n",
    "Change the name of the file to your own file if you need to process other data. Do not forget to change the values of the variables `data_source`, `id_column_name` and `text_column_name` as well."
   ]
  },
  {
   "cell_type": "code",
   "execution_count": 82,
   "metadata": {},
   "outputs": [],
   "source": [
    "file_name = \"em.csv\"\n",
    "data_source = \"EMT\"\n",
    "id_column_name = \"Inventory Number\"\n",
    "text_column_name = \"Description\"\n",
    "\n",
    "\n",
    "def read_emt_data(file_name):\n",
    "    \"\"\"Read texts from the Egyptian Museum in Turin from a csv file\"\"\"\n",
    "    try:\n",
    "        table_pl = pl.read_csv(file_name)[id_column_name, text_column_name]\n",
    "        return [{\"id\": row[0], \"data_source\": data_source, \"text_original\": row[1]}\n",
    "                for row in table_pl.iter_rows()]\n",
    "    except:\n",
    "        print(f\"Cannot read data from file {file_name}!\")\n",
    "        return []"
   ]
  },
  {
   "cell_type": "code",
   "execution_count": 75,
   "metadata": {},
   "outputs": [
    {
     "name": "stdout",
     "output_type": "stream",
     "text": [
      "Text found: {'id': 'C. 0115', 'data_source': 'EMT', 'text_original': 'Statuette of the god Anubis. Bronze. Late Period (722-332 BC).. Acquired before 1882. C. 115'}\n"
     ]
    }
   ],
   "source": [
    "texts = read_emt_data(file_name)\n",
    "if len(texts) <= 0:\n",
    "    print(f\"No texts found in file {file_name}!\")\n",
    "else:\n",
    "    print(\"Text found:\", texts[0])"
   ]
  },
  {
   "cell_type": "markdown",
   "metadata": {},
   "source": [
    "### 5.3. Read a single text from a text file\n",
    "\n",
    "We use a description of a monument from Wikipedia, written in a different language than English"
   ]
  },
  {
   "cell_type": "code",
   "execution_count": 85,
   "metadata": {},
   "outputs": [],
   "source": [
    "file_name = \"wikipedia.txt\"\n",
    "data_source = \"wikipedia\"\n",
    "\n",
    "\n",
    "def read_wikipedia_file(file_name):\n",
    "    \"\"\"Read a text from Wikipedia from a text file\"\"\"\n",
    "    try:\n",
    "        with open(file_name, \"r\") as infile:\n",
    "            text = infile.read().strip()\n",
    "            infile.close()\n",
    "        return [{\"id\": 1, \"data_source\": data_source, \"text_original\": text}]\n",
    "    except:\n",
    "        print(f\"Cannot read data from file {file_name}!\")\n",
    "        return []"
   ]
  },
  {
   "cell_type": "code",
   "execution_count": 86,
   "metadata": {},
   "outputs": [
    {
     "name": "stdout",
     "output_type": "stream",
     "text": [
      "Text found: {'id': 1, 'data_source': 'wikipedia', 'text_original': 'Der Kölner Dom (offiziell Hohe Domkirche zu Köln) ist eine römisch-katholische Kirche in Köln unter dem Patrozinium des Apostels Petrus. Er ist die Kathedrale des Erzbistums Köln sowie Metropolitan\\xadkirche der Kirchenprovinz Köln. Hausherr ist der Dompropst. Der Kölner Dom ist eine der größten Kathedralen im gotischen Baustil. Sein Bau wurde 1248 im Auftrag von Konrad I. nach Entwurf von Meister Gerhard begonnen und 1880 im Auftrag von Friedrich Wilhelm IV. nach Entwurf von Ernst Friedrich Zwirner vollendet. Einige Kunsthistoriker haben den Dom wegen seiner einheitlichen und ausgewogenen Bauform als „vollkommene Kathedrale“ bezeichnet. Mit 157,22 Metern ist er nach dem Ulmer Münster der zweithöchste Sakralbau Deutschlands und hinter der Basilika Notre-Dame-de-la-Paix de Yamoussoukro die dritthöchste Kirche der Welt.'}\n"
     ]
    }
   ],
   "source": [
    "texts = read_wikipedia_file(file_name)\n",
    "if len(texts) <= 0:\n",
    "    print(f\"No texts found in file {file_name}!\")\n",
    "else:\n",
    "    print(\"Text found:\", texts[0])"
   ]
  },
  {
   "cell_type": "markdown",
   "metadata": {
    "id": "jqC3iOM-y0BG"
   },
   "source": [
    "## Old code"
   ]
  },
  {
   "cell_type": "markdown",
   "metadata": {
    "id": "7Cerm_cBIOo6"
   },
   "source": [
    "### Save the results in a local .zip file\n",
    "\n",
    "The output files are only saved locally in the Google Colab notebook, and will be deleted after the notebook is closed.\n",
    "\n",
    "Two options are available:\n",
    "1. If you are only interested in one of the files you generated, you can simply download the individual output file.\n",
    "2. If you ran all options and want to save all output files, you can download all of them as a zip folder.\n"
   ]
  },
  {
   "cell_type": "code",
   "execution_count": null,
   "metadata": {
    "colab": {
     "base_uri": "https://localhost:8080/",
     "height": 17
    },
    "id": "C8KaCUVd0Cxc",
    "outputId": "1513653f-5db5-440b-a663-80523ce2fcd6"
   },
   "outputs": [],
   "source": [
    "# take the output_file generated by your chosen option and download it on your machine.\n",
    "from google.colab import files\n",
    "files.download(\"output_file.json\")"
   ]
  },
  {
   "cell_type": "code",
   "execution_count": null,
   "metadata": {
    "colab": {
     "base_uri": "https://localhost:8080/",
     "height": 34
    },
    "id": "r3PNWW1wIR4P",
    "outputId": "2a1ae5c1-cfc3-4cd7-9a1a-603bc4656e82"
   },
   "outputs": [],
   "source": [
    "# take the output_file saved under content and download it locally as a .zip file\n",
    "from google.colab import files\n",
    "!zip -r output_files.zip output_api_id.json output_api_search.json output_local.json output_file.json\n",
    "files.download(\"output_files.zip\")"
   ]
  },
  {
   "cell_type": "code",
   "execution_count": null,
   "metadata": {},
   "outputs": [],
   "source": []
  }
 ],
 "metadata": {
  "accelerator": "GPU",
  "colab": {
   "collapsed_sections": [
    "YDuesoBf067g"
   ],
   "gpuType": "T4",
   "include_colab_link": true,
   "provenance": []
  },
  "kernelspec": {
   "display_name": "Python 3 (ipykernel)",
   "language": "python",
   "name": "python3"
  },
  "language_info": {
   "codemirror_mode": {
    "name": "ipython",
    "version": 3
   },
   "file_extension": ".py",
   "mimetype": "text/x-python",
   "name": "python",
   "nbconvert_exporter": "python",
   "pygments_lexer": "ipython3",
   "version": "3.10.12"
  }
 },
 "nbformat": 4,
 "nbformat_minor": 4
}
